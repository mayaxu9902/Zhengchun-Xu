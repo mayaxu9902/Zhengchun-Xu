{
 "cells": [
  {
   "cell_type": "markdown",
   "metadata": {},
   "source": [
    "# Cogs 18 Final Project: People's Birth Year \n",
    "- Name: Maya(Zhengchun) Xu\n",
    "- PID: A15614437\n",
    "- Topic: People's Birth Year"
   ]
  },
  {
   "cell_type": "markdown",
   "metadata": {},
   "source": [
    "Some Links I use for coding checking this project:\n",
    "https://stackoverflow.com/questions/13130574/bound-method-error\n",
    "http://data8.org/datascience/tables.html\n",
    "https://dzone.com/articles/python-class-attributes-vs-instance-attributes\n",
    "and Kaggle Website:\n",
    "https://www.kaggle.com/qwp8510/olympic-history-analysis-sklearn/comments"
   ]
  },
  {
   "cell_type": "markdown",
   "metadata": {},
   "source": [
    "Before start everything, I want to install pip and import numpy and pandas into my notebook"
   ]
  },
  {
   "cell_type": "code",
   "execution_count": 264,
   "metadata": {},
   "outputs": [
    {
     "name": "stdout",
     "output_type": "stream",
     "text": [
      "Requirement already satisfied: pandas in /opt/conda/lib/python3.6/site-packages (0.19.2)\n",
      "Requirement already satisfied: python-dateutil>=2 in /opt/conda/lib/python3.6/site-packages (from pandas) (2.7.5)\n",
      "Requirement already satisfied: pytz>=2011k in /opt/conda/lib/python3.6/site-packages (from pandas) (2018.7)\n",
      "Requirement already satisfied: numpy>=1.7.0 in /opt/conda/lib/python3.6/site-packages (from pandas) (1.12.1)\n",
      "Requirement already satisfied: six>=1.5 in /opt/conda/lib/python3.6/site-packages (from python-dateutil>=2->pandas) (1.12.0)\n",
      "Requirement already satisfied: numpy in /opt/conda/lib/python3.6/site-packages (1.12.1)\n",
      "Requirement already satisfied: Table in ./.local/lib/python3.6/site-packages (0.0.4)\n"
     ]
    }
   ],
   "source": [
    "!pip install --user pandas\n",
    "!pip install --user numpy\n",
    "!pip install --user Table"
   ]
  },
  {
   "cell_type": "code",
   "execution_count": 265,
   "metadata": {
    "scrolled": true
   },
   "outputs": [],
   "source": [
    "#import numpy and pandas and other packages that I might be using\n",
    "import numpy as np\n",
    "import pandas as pd\n",
    "from datascience import Table\n",
    "from datascience.predicates import are"
   ]
  },
  {
   "cell_type": "markdown",
   "metadata": {},
   "source": [
    "There are total three functions I will be creating for this project, they are for:\n",
    "- the animal of the people's birth year\n",
    "- if there was a summer Olympic Games taking place\n",
    "- if that person can drink legally right now (at the year of 2019)\n"
   ]
  },
  {
   "cell_type": "markdown",
   "metadata": {},
   "source": [
    "# Part One: Year of Animal\n",
    "I know that this year (2019) is the Year of Pig, so by calculating, 2016 was the Year of Monkey which is also a year that can be divided exactly by 12 (as a cycle). Therefore, I will start from there:"
   ]
  },
  {
   "cell_type": "code",
   "execution_count": 354,
   "metadata": {},
   "outputs": [],
   "source": [
    "#define the first function\n",
    "def year_of_animal(number):\n",
    "    if number%12==0:\n",
    "#start from the year of Monkey\n",
    "        return \"Year of Monkey!\"\n",
    "    if number%12==1:\n",
    "        return \"Year of Chicken!\"\n",
    "    if number%12==2:\n",
    "        return \"Year of Dog!\"\n",
    "    if number%12==3:\n",
    "        return \"Year of Pig!\"\n",
    "    if number%12==4:\n",
    "        return \"Year of Monse!\"\n",
    "    if number%12==5:\n",
    "        return \"Year of Cattle!\"\n",
    "    if number%12==6:\n",
    "        return \"Year of Tiger!\"\n",
    "    if number%12==7:\n",
    "        return \"Year of Rabbit!\"\n",
    "    if number%12==8:\n",
    "        return \"Year of Dragon!\"\n",
    "    if number%12==9:\n",
    "        return \"Year of Snake!\"\n",
    "    if number%12==10:\n",
    "        return \"Year of Horse!\"\n",
    "#end by the last animal\n",
    "    if number%12==11:\n",
    "        return \"Year of Goat!\""
   ]
  },
  {
   "cell_type": "markdown",
   "metadata": {},
   "source": [
    "I was born in 1999, there I will use my own birth year to check if the code work correctly"
   ]
  },
  {
   "cell_type": "code",
   "execution_count": 356,
   "metadata": {},
   "outputs": [
    {
     "data": {
      "text/plain": [
       "'Year of Rabbit!'"
      ]
     },
     "execution_count": 356,
     "metadata": {},
     "output_type": "execute_result"
    }
   ],
   "source": [
    "my_birth_year=year_of_animal(1999)  \n",
    "my_birth_year"
   ]
  },
  {
   "cell_type": "markdown",
   "metadata": {},
   "source": [
    "It was right! I was born in the Year of Rabbit!"
   ]
  },
  {
   "cell_type": "code",
   "execution_count": 357,
   "metadata": {},
   "outputs": [],
   "source": [
    "assert isinstance(my_birth_year, str)\n",
    "assert my_birth_year == 'Year of Rabbit!'"
   ]
  },
  {
   "cell_type": "markdown",
   "metadata": {},
   "source": [
    "# Part Two: Summer Olympic Game\n",
    "I want to determine that if there was a summer olympic game taking place in the person's birth year. I also wasnt to find the city and country where the games taking place. I went on Kaggle and found a dataset there"
   ]
  },
  {
   "cell_type": "code",
   "execution_count": 358,
   "metadata": {},
   "outputs": [
    {
     "data": {
      "text/html": [
       "<table border=\"1\" class=\"dataframe\">\n",
       "    <thead>\n",
       "        <tr>\n",
       "            <th>City</th> <th>Country</th> <th>Year</th>\n",
       "        </tr>\n",
       "    </thead>\n",
       "    <tbody>\n",
       "        <tr>\n",
       "            <td>Athens    </td> <td>Greece        </td> <td>1896</td>\n",
       "        </tr>\n",
       "        <tr>\n",
       "            <td>Paris     </td> <td>France        </td> <td>1900</td>\n",
       "        </tr>\n",
       "        <tr>\n",
       "            <td>St. Louis </td> <td>United States </td> <td>1904</td>\n",
       "        </tr>\n",
       "        <tr>\n",
       "            <td>London    </td> <td>United Kingdom</td> <td>1908</td>\n",
       "        </tr>\n",
       "        <tr>\n",
       "            <td>Stockholm </td> <td>Sweden        </td> <td>1912</td>\n",
       "        </tr>\n",
       "        <tr>\n",
       "            <td>Antwerp   </td> <td>Belgium       </td> <td>1920</td>\n",
       "        </tr>\n",
       "        <tr>\n",
       "            <td>Chamonix  </td> <td>France        </td> <td>1924</td>\n",
       "        </tr>\n",
       "        <tr>\n",
       "            <td>Paris     </td> <td>France        </td> <td>1924</td>\n",
       "        </tr>\n",
       "        <tr>\n",
       "            <td>St. Moritz</td> <td>Switzerland   </td> <td>1928</td>\n",
       "        </tr>\n",
       "        <tr>\n",
       "            <td>Amsterdam </td> <td>Netherlands   </td> <td>1928</td>\n",
       "        </tr>\n",
       "    </tbody>\n",
       "</table>\n",
       "<p>... (41 rows omitted)</p>"
      ],
      "text/plain": [
       "City       | Country        | Year\n",
       "Athens     | Greece         | 1896\n",
       "Paris      | France         | 1900\n",
       "St. Louis  | United States  | 1904\n",
       "London     | United Kingdom | 1908\n",
       "Stockholm  | Sweden         | 1912\n",
       "Antwerp    | Belgium        | 1920\n",
       "Chamonix   | France         | 1924\n",
       "Paris      | France         | 1924\n",
       "St. Moritz | Switzerland    | 1928\n",
       "Amsterdam  | Netherlands    | 1928\n",
       "... (41 rows omitted)"
      ]
     },
     "execution_count": 358,
     "metadata": {},
     "output_type": "execute_result"
    }
   ],
   "source": [
    "olympic=Table.read_table('olym.csv')\n",
    "# I only want the column of \"City\", \"Country\", \"Year\", so I am going to only select those columns that are needed\n",
    "# and save them in a new table\n",
    "olympic=olympic.select('City','Country','Year')\n",
    "olympic"
   ]
  },
  {
   "cell_type": "code",
   "execution_count": 255,
   "metadata": {},
   "outputs": [],
   "source": [
    "# in order to use the function where for table, I need to import are\n",
    "from datascience.predicates import are\n",
    "\n",
    "def summer_olympic_year(number):\n",
    "    if number%4==0:\n",
    "        special_year=olympic.where('Year',are.equal_to(number))\n",
    "        City=special_year.column('City')\n",
    "#with the step below, city will become a string, no longer an array\n",
    "        city=' '.join(City)\n",
    "        Country=special_year.column('Country')\n",
    "#same step as above mentioned\n",
    "        country=' '.join(Country)\n",
    "        return city,country\n",
    "    else:\n",
    "        return \"No summer Olympic games.\""
   ]
  },
  {
   "cell_type": "code",
   "execution_count": 285,
   "metadata": {
    "scrolled": true
   },
   "outputs": [
    {
     "data": {
      "text/plain": [
       "('Beijing', 'China')"
      ]
     },
     "execution_count": 285,
     "metadata": {},
     "output_type": "execute_result"
    }
   ],
   "source": [
    "year_of_two_thousand_eighteen=summer_olympic_year(2008)\n",
    "year_of_two_thousand_eighteen"
   ]
  },
  {
   "cell_type": "code",
   "execution_count": 284,
   "metadata": {},
   "outputs": [],
   "source": [
    "assert type(summer_olympic_year(2008))==tuple\n",
    "assert year_of_two_thousand_eighteen==('Beijing', 'China')"
   ]
  },
  {
   "cell_type": "markdown",
   "metadata": {},
   "source": [
    "# Part Three: Legally Drinking\n",
    "I want to find that by the year of 2019, if the person can be legally drinking; if not, when can she/he be?"
   ]
  },
  {
   "cell_type": "code",
   "execution_count": 279,
   "metadata": {},
   "outputs": [],
   "source": [
    "def legally_drinking(number):\n",
    "    if 2019-number>=21:\n",
    "        return \"Congrats! You can drink legally in States!!\"\n",
    "    else:\n",
    "#by plusing a 21 to the birth year, I can find the year that the person can be legally drinking\n",
    "        year=number+21\n",
    "        return year"
   ]
  },
  {
   "cell_type": "markdown",
   "metadata": {},
   "source": [
    "I use my cousin's birth year to test the result, he was born in 1993, so he should be legally drinking long time ago"
   ]
  },
  {
   "cell_type": "code",
   "execution_count": 286,
   "metadata": {},
   "outputs": [
    {
     "data": {
      "text/plain": [
       "'Congrats! You can drink legally in States!!'"
      ]
     },
     "execution_count": 286,
     "metadata": {},
     "output_type": "execute_result"
    }
   ],
   "source": [
    "my_cousin_birth_year=legally_drinking(1993)\n",
    "my_cousin_birth_year"
   ]
  },
  {
   "cell_type": "code",
   "execution_count": 287,
   "metadata": {},
   "outputs": [],
   "source": [
    "assert type(legally_drinking(1993))==str\n",
    "assert my_cousin_birth_year== \"Congrats! You can drink legally in States!!\""
   ]
  },
  {
   "cell_type": "markdown",
   "metadata": {},
   "source": [
    "# Fun Part !!\n",
    "After finishing the three functions, I decided to challenge myself to put the three function into one class (for fun)."
   ]
  },
  {
   "cell_type": "code",
   "execution_count": 359,
   "metadata": {},
   "outputs": [],
   "source": [
    "class YearOfBirth():\n",
    "    def __init__(self,name,number,animal='Year of Rabbit',result='No summer Olympic games.',by_year=2020):\n",
    "        self.name=name\n",
    "        self.number=number\n",
    "# as I ran the test trail below, I find that it requires me to put defalt value for animal, result, and by_year\n",
    "# so I did that\n",
    "        self.animal=animal\n",
    "        self.result=result\n",
    "        self.by_year=by_year\n",
    "    def year_of_animal(self,number):\n",
    "# I change the original function a bit to make it more fit the class\n",
    "        if self.number%12==0:\n",
    "            self.animal= \"Year of Monkey!\"\n",
    "        if self.number%12==1:\n",
    "            self.animal=\"Year of Chicken!\"\n",
    "        if self.number%12==2:\n",
    "            self.animal=\"Year of Dog!\"\n",
    "        if self.number%12==3:\n",
    "            self.animal=\"Year of Pig!\"\n",
    "        if self.number%12==4:\n",
    "            self.animal=\"Year of Monse!\"\n",
    "        if self.number%12==5:\n",
    "            self.animal=\"Year of Cattle!\"\n",
    "        if self.number%12==6:\n",
    "            self.animal=\"Year of Tiger!\"\n",
    "        if self.number%12==7:\n",
    "            self.animal=\"Year of Rabbit!\"\n",
    "        if self.number%12==8:\n",
    "            self.animal=\"Year of Dragon!\"\n",
    "        if self.number%12==9:\n",
    "            self.animal=\"Year of Snake!\"\n",
    "        if self.number%12==10:\n",
    "            self.animal=\"Year of Horse!\"\n",
    "        if self.number%12==11:\n",
    "            self.animal=\"Year of Goat!\"\n",
    "    \n",
    "    def summer_olympic_year(self):\n",
    "        if self.number%4==0:\n",
    "            self.special_year=olympic.where('Year',are.equal_to(self.number))\n",
    "            City=special_year.column('City')\n",
    "            self.city=' '.join(City)\n",
    "            Country=special_year.column('Country')\n",
    "            self.country=' '.join(Country)\n",
    "        else:\n",
    "            self.result=\"No summer Olympic games.\"\n",
    "            \n",
    "    def legally_drinking(self):\n",
    "        if 2019-self.number>=21:\n",
    "            self.congrats=\"Congrats! You can drink legally in States!!\"\n",
    "        else:\n",
    "            self.by_year=self.number+21\n",
    "            \n",
    "    def check(self):\n",
    "#Here's to the printing part!\n",
    "        if self.number%4==0 and 2019-self.number>=21:\n",
    "            return print(self.name,\"your birth year is\", self.number,\"it was the\",self.animal,\n",
    "                 \"the Summer Olympic Game took place in\",self.city, self.country,self.congrats)\n",
    "        if self.number%4==0 and 2019-self.number<=21:\n",
    "            return print(self.name,\"your birth year is\", self.number,\"it was the\",self.animal,\n",
    "                         \"the Summer Olympic Game took place in\",self.city, self.country,\"you can drink at year\", \n",
    "                         self.by_year)\n",
    "        if self.number%4!=0 and 2019-self.number>=21:\n",
    "            return print(self.name,\"your birth year is\", self.number,\"it was the\",self.animal,\n",
    "                 self.result,self.congrats)\n",
    "        else:\n",
    "            print(self.name,\"your birth year is\", self.number,\"it was the\",self.animal,\n",
    "                 self.result,\"you can drink at year\", self.by_year)\n",
    "        \n",
    "        \n",
    "        "
   ]
  },
  {
   "cell_type": "code",
   "execution_count": 360,
   "metadata": {},
   "outputs": [
    {
     "name": "stdout",
     "output_type": "stream",
     "text": [
      "Maya your birth year is 1999 it was the Year of Rabbit No summer Olympic games. you can drink at year 2020\n"
     ]
    }
   ],
   "source": [
    "#I use myself's data to test the class, and it seems to give me a result that contains the correct informaiton of mine\n",
    "Maya=YearOfBirth(\"Maya\",1999)\n",
    "Maya.check()"
   ]
  },
  {
   "cell_type": "code",
   "execution_count": null,
   "metadata": {},
   "outputs": [],
   "source": []
  }
 ],
 "metadata": {
  "kernelspec": {
   "display_name": "Python 3",
   "language": "python",
   "name": "python3"
  },
  "language_info": {
   "codemirror_mode": {
    "name": "ipython",
    "version": 3
   },
   "file_extension": ".py",
   "mimetype": "text/x-python",
   "name": "python",
   "nbconvert_exporter": "python",
   "pygments_lexer": "ipython3",
   "version": "3.6.7"
  }
 },
 "nbformat": 4,
 "nbformat_minor": 2
}
